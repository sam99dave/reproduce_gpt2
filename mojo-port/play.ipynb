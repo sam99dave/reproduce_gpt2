{
 "cells": [
  {
   "cell_type": "markdown",
   "id": "36595418",
   "metadata": {},
   "source": [
    "## FLOW\n",
    "\n",
    "- [x] GPT Dataclass\n",
    "- [] Causal Attention\n",
    "- [] MLP\n",
    "- [] Block\n",
    "- [] GPT Model"
   ]
  },
  {
   "cell_type": "code",
   "execution_count": null,
   "id": "19c5c868",
   "metadata": {},
   "outputs": [],
   "source": []
  },
  {
   "cell_type": "markdown",
   "id": "c370441f",
   "metadata": {},
   "source": []
  }
 ],
 "metadata": {
  "kernelspec": {
   "display_name": "Mojo",
   "language": "mojo",
   "name": "mojo-jupyter-kernel"
  },
  "language_info": {
   "name": "mojo"
  }
 },
 "nbformat": 4,
 "nbformat_minor": 5
}
